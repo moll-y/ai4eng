{
  "nbformat": 4,
  "nbformat_minor": 0,
  "metadata": {
    "colab": {
      "provenance": []
    },
    "kernelspec": {
      "name": "python3",
      "display_name": "Python 3"
    },
    "language_info": {
      "name": "python"
    }
  },
  "cells": [
    {
      "cell_type": "markdown",
      "source": [
        "#**04 - modelo maquinas de vectores de soporte**\n",
        "\n",
        "**Miembros del grupo:**\n",
        "\n",
        "* Cristian Camilo Serna Betancur, CC 1018351871, Ingeniería de Sistemas\n",
        "* Diego Alonso Herrera Ramírez, CC 70908268, Ingeniería de Sistemas\n",
        "* Sharid Samantha Madrid Ospina, CC 1001652997, Ingeniería de Sistemas\n",
        "\n",
        "\n",
        "**Base de datos:**\n",
        "* [hotel_booking](https://www.kaggle.com/datasets/saadharoon27/hotel-booking-dataset/data): Contiene información sobre reservas de hotel, que abarca detalles sobre los huéspedes, sus reservas y atributos del hotel"
      ],
      "metadata": {
        "id": "ymzM4vyyMw5Z"
      }
    },
    {
      "cell_type": "code",
      "source": [
        "from sklearn.svm import SVC\n",
        "from sklearn.model_selection import train_test_split, cross_val_score\n",
        "from sklearn.metrics import confusion_matrix, f1_score, accuracy_score\n",
        "import pandas as pd\n",
        "import numpy as np\n",
        "from sklearn.model_selection import StratifiedKFold\n",
        "from sklearn.preprocessing import StandardScaler\n",
        "from sklearn.metrics import confusion_matrix, classification_report"
      ],
      "metadata": {
        "id": "NrsJshgLgLuj"
      },
      "execution_count": null,
      "outputs": []
    },
    {
      "cell_type": "code",
      "source": [
        "# Se carga el conjunto de datos original\n",
        "db = pd.read_csv(\"https://raw.githubusercontent.com/Udeaproject/IA-system/main/preprocessed_hotel_booking2.csv\", delimiter=\",\")"
      ],
      "metadata": {
        "id": "A_oth9ZLoRMw"
      },
      "execution_count": null,
      "outputs": []
    },
    {
      "cell_type": "code",
      "source": [
        "# Separar los datos en características (X) y variable objetivo (y)\n",
        "X = db.drop(['is_canceled'], axis=1)\n",
        "y = db['is_canceled']\n",
        "X_train, X_test, y_train, y_test = train_test_split(X, y, test_size=0.2, random_state=42)\n",
        "# Estandarización de datos\n",
        "scaler = StandardScaler()\n",
        "X_train_scaled = scaler.fit_transform(X_train)\n",
        "X_test_scaled = scaler.transform(X_test)"
      ],
      "metadata": {
        "id": "P_ogltU9gLNT"
      },
      "execution_count": null,
      "outputs": []
    },
    {
      "cell_type": "code",
      "source": [
        "C = 0.1\n",
        "gamma = 0.01\n",
        "kernel = 'poly'\n",
        "\n",
        "# Inicializar el clasificador SVM\n",
        "svm_model = SVC(decision_function_shape='ovr', C=C, gamma=gamma, kernel=kernel)\n",
        "\n",
        "svm_model.fit(X_train_scaled, y_train)\n",
        "\n",
        "# Validación cruzada de k-fold (k=5)\n",
        "k_fold = StratifiedKFold(n_splits=5, shuffle=True, random_state=42)\n",
        "\n",
        "# Calcular el rendimiento mediante validación cruzada\n",
        "cross_val_scores = cross_val_score(svm_model, X_train_scaled, y_train, cv=k_fold, scoring='accuracy')\n",
        "\n",
        "# Imprimir resultados de validación cruzada\n",
        "\n",
        "print(f\"\\nResultados de Validación Cruzada (Accuracy): {cross_val_scores}\")\n",
        "print(f\"Accuracy Promedio: {cross_val_scores.mean():.4f}\")\n",
        "print(f\"Desviación Estándar: {cross_val_scores.std():.4f}\")\n",
        "\n",
        "svm_y_pred = svm_model.predict(X_test_scaled)\n",
        "svm_confusion_matrix = confusion_matrix(y_test, svm_y_pred)\n",
        "svm_classification_report = classification_report(y_test, svm_y_pred)\n",
        "\n",
        "\n",
        "print(\"\\nConfusion Matrix:\")\n",
        "print(svm_confusion_matrix)\n",
        "print(\"\\nClassification Report:\")\n",
        "print(svm_classification_report)"
      ],
      "metadata": {
        "id": "RzbqLufnduS9",
        "colab": {
          "base_uri": "https://localhost:8080/"
        },
        "outputId": "216318c1-74db-4250-9f7a-fd3e790df645"
      },
      "execution_count": null,
      "outputs": [
        {
          "output_type": "stream",
          "name": "stdout",
          "text": [
            "\n",
            "Resultados de Validación Cruzada (Accuracy): [0.99918884 0.99935107 0.99902661 0.99935107 0.99959442]\n",
            "Accuracy Promedio: 0.9993\n",
            "Desviación Estándar: 0.0002\n",
            "\n",
            "Confusion Matrix:\n",
            "[[7335    2]\n",
            " [   8 8066]]\n",
            "\n",
            "Classification Report:\n",
            "              precision    recall  f1-score   support\n",
            "\n",
            "           0       1.00      1.00      1.00      7337\n",
            "           1       1.00      1.00      1.00      8074\n",
            "\n",
            "    accuracy                           1.00     15411\n",
            "   macro avg       1.00      1.00      1.00     15411\n",
            "weighted avg       1.00      1.00      1.00     15411\n",
            "\n"
          ]
        }
      ]
    }
  ]
}