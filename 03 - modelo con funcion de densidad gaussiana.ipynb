{
  "nbformat": 4,
  "nbformat_minor": 0,
  "metadata": {
    "colab": {
      "provenance": []
    },
    "kernelspec": {
      "name": "python3",
      "display_name": "Python 3"
    },
    "language_info": {
      "name": "python"
    }
  },
  "cells": [
    {
      "cell_type": "markdown",
      "source": [
        "#**03 - modelo con función de densidad gaussiana**\n",
        "\n",
        "**Miembros del grupo:**\n",
        "\n",
        "* Cristian Camilo Serna Betancur, CC 1018351871, Ingeniería de Sistemas\n",
        "* Diego Alonso Herrera Ramírez, CC 70908268, Ingeniería de Sistemas\n",
        "* Sharid Samantha Madrid Ospina, CC 1001652997, Ingeniería de Sistemas\n",
        "\n",
        "\n",
        "**Base de datos:**\n",
        "* [hotel_booking](https://www.kaggle.com/datasets/saadharoon27/hotel-booking-dataset/data): Contiene información sobre reservas de hotel, que abarca detalles sobre los huéspedes, sus reservas y atributos del hote"
      ],
      "metadata": {
        "id": "sCW_VQHAPorE"
      }
    },
    {
      "cell_type": "code",
      "source": [
        "import pandas as pd\n",
        "\n",
        "# Se carga el conjunto de datos original\n",
        "db = pd.read_csv(\"https://raw.githubusercontent.com/Udeaproject/IA-system/main/preprocessed_hotel_booking2.csv\", delimiter=\",\")"
      ],
      "metadata": {
        "id": "G7jwV1ABQak8"
      },
      "execution_count": null,
      "outputs": []
    },
    {
      "cell_type": "code",
      "execution_count": null,
      "metadata": {
        "id": "IrzF_kcGOfVI"
      },
      "outputs": [],
      "source": [
        "from sklearn.model_selection import train_test_split\n",
        "\n",
        "train_db, test_db = train_test_split(db, test_size=0.2, random_state=40)\n",
        "x_test = test_db.drop(['is_canceled'], axis=1).copy()\n",
        "y_test = test_db['is_canceled']"
      ]
    },
    {
      "cell_type": "code",
      "source": [
        "import numpy as np\n",
        "\n",
        "# Entrenamiento\n",
        "canceled_1 = train_db[train_db[\"is_canceled\"] == 1]\n",
        "canceled_1 = canceled_1.drop([\"is_canceled\"], axis=1).copy()\n",
        "canceled_miu_1 = np.array([np.mean(canceled_1[column]) for column in canceled_1.columns])\n",
        "canceled_cov_1 = np.cov(canceled_1.to_numpy(), rowvar=False)\n",
        "canceled_det_1 = np.linalg.det(canceled_cov_1)\n",
        "canceled_inv_1 = np.linalg.inv(canceled_cov_1)\n",
        "\n",
        "canceled_0 = train_db[train_db[\"is_canceled\"] == 0]\n",
        "canceled_0 = canceled_0.drop([\"is_canceled\"], axis=1).copy()\n",
        "canceled_miu_0 = np.array([np.mean(canceled_0[column]) for column in canceled_0.columns])\n",
        "canceled_cov_0 = np.cov(canceled_0.to_numpy(), rowvar=False)\n",
        "# Se aplica regularizacion debido a que el determinante estaba siendo igual a 0\n",
        "canceled_cov_0 = canceled_cov_0 + np.eye(canceled_cov_0.shape[0]) * 1e-6\n",
        "canceled_det_0 = np.linalg.det(canceled_cov_0)\n",
        "canceled_inv_0 = np.linalg.inv(canceled_cov_0)"
      ],
      "metadata": {
        "id": "jSByCiS7OnoC"
      },
      "execution_count": null,
      "outputs": []
    },
    {
      "cell_type": "code",
      "source": [
        "# Modelo\n",
        "def fdg_classifier(m):\n",
        "    t1 = 1 / ((pow((2 * np.pi), (np.size(db, 1) / 2))) * np.sqrt(canceled_det_0))\n",
        "    prod1 = np.dot((m - canceled_miu_0).reshape(31, 1).T, canceled_inv_0)\n",
        "    prod2 = np.dot(prod1, (m - canceled_miu_0).reshape(31, 1))[0, 0]\n",
        "    t2 = np.exp(-0.5 * (prod2))\n",
        "    p0 = t1 * t2\n",
        "\n",
        "    t1 = 1 / ((pow((2 * np.pi), (np.size(db, 1) / 2))) * np.sqrt(canceled_det_1))\n",
        "    prod1 = np.dot((m - canceled_miu_1).reshape(31, 1).T, canceled_inv_1)\n",
        "    prod2 = np.dot(prod1, (m - canceled_miu_1).reshape(31, 1))[0, 0]\n",
        "    t2 = np.exp(-0.5 * (prod2))\n",
        "    p1 = t1 * t2\n",
        "\n",
        "    if p1 > p0:\n",
        "        return 1\n",
        "    else:\n",
        "        return 0"
      ],
      "metadata": {
        "id": "Xkr5qUS_SXpw"
      },
      "execution_count": null,
      "outputs": []
    },
    {
      "cell_type": "code",
      "source": [
        "def fdg_predict(x_test):\n",
        "    return x_test.apply(lambda row: fdg_classifier(row.values.reshape(1, -1)[0]), axis=1)\n",
        "\n",
        "def error(y_pred, y_test):\n",
        "    return np.mean(y_pred != y_test)"
      ],
      "metadata": {
        "id": "OGgWQ-VeOrfX"
      },
      "execution_count": null,
      "outputs": []
    },
    {
      "cell_type": "code",
      "source": [
        "from sklearn.metrics import confusion_matrix\n",
        "from sklearn.metrics import f1_score\n",
        "\n",
        "y_pred = fdg_predict(x_test)\n",
        "print(\"La eficiencia del modelo es: \", np.round((1 - error(y_pred, y_test)) * 100, 2), \"%\")\n",
        "print(\"Matriz de foncusion: \", confusion_matrix(y_test, y_pred))\n",
        "print(\"F1-score: \", f1_score(y_test, y_pred))"
      ],
      "metadata": {
        "colab": {
          "base_uri": "https://localhost:8080/"
        },
        "id": "Nq-NWwQbOyMb",
        "outputId": "dad8427e-a422-45f2-f73a-8b7471df17c3"
      },
      "execution_count": null,
      "outputs": [
        {
          "output_type": "stream",
          "name": "stdout",
          "text": [
            "La eficiencia del modelo es:  99.34 %\n",
            "Matriz de foncusion:  [[7367   99]\n",
            " [   2 7943]]\n",
            "F1-score:  0.9936823669231251\n"
          ]
        }
      ]
    }
  ]
}