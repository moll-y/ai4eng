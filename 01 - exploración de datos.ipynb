{
  "nbformat": 4,
  "nbformat_minor": 0,
  "metadata": {
    "colab": {
      "provenance": []
    },
    "kernelspec": {
      "name": "python3",
      "display_name": "Python 3"
    },
    "language_info": {
      "name": "python"
    }
  },
  "cells": [
    {
      "cell_type": "markdown",
      "source": [
        "#**01 - exploración de datos**\n",
        "\n",
        "**Miembros del grupo:**\n",
        "\n",
        "* Cristian Camilo Serna Betancur, CC 1018351871, Ingeniería de Sistemas\n",
        "* Diego Alonso Herrera Ramírez, CC 70908268, Ingeniería de Sistemas\n",
        "* Sharid Samantha Madrid Ospina, CC 1001652997, Ingeniería de Sistemas\n",
        "\n",
        "\n",
        "**Base de datos:**\n",
        "* [hotel_booking](https://www.kaggle.com/datasets/saadharoon27/hotel-booking-dataset/data): Contiene información sobre reservas de hotel, que abarca detalles sobre los huéspedes, sus reservas y atributos del hotel."
      ],
      "metadata": {
        "id": "kPxJPaeA_lXo"
      }
    },
    {
      "cell_type": "code",
      "execution_count": null,
      "metadata": {
        "id": "ygWpAEfF_iNi"
      },
      "outputs": [],
      "source": [
        "import pandas as pd\n",
        "\n",
        "# Se carga el conjunto de datos original\n",
        "data = pd.read_csv(\"https://raw.githubusercontent.com/Udeaproject/IA-system/main/hotel_booking.csv\", delimiter=\",\")"
      ]
    },
    {
      "cell_type": "code",
      "source": [
        "# Se realiza una exploración inicial del conjunto de datos\n",
        "print(\"Información del conjunto de datos:\")\n",
        "print(data.columns)\n",
        "print(data.info())"
      ],
      "metadata": {
        "colab": {
          "base_uri": "https://localhost:8080/"
        },
        "id": "iQe-qeHlHrlx",
        "outputId": "bfed7fb6-a942-416d-d027-f34f3ad8f340"
      },
      "execution_count": null,
      "outputs": [
        {
          "output_type": "stream",
          "name": "stdout",
          "text": [
            "Información del conjunto de datos:\n",
            "Index(['hotel', 'is_canceled', 'lead_time', 'arrival_date_year',\n",
            "       'arrival_date_month', 'arrival_date_week_number',\n",
            "       'arrival_date_day_of_month', 'stays_in_weekend_nights',\n",
            "       'stays_in_week_nights', 'adults', 'children', 'babies', 'meal',\n",
            "       'country', 'market_segment', 'distribution_channel',\n",
            "       'is_repeated_guest', 'previous_cancellations',\n",
            "       'previous_bookings_not_canceled', 'reserved_room_type',\n",
            "       'assigned_room_type', 'booking_changes', 'deposit_type', 'agent',\n",
            "       'company', 'days_in_waiting_list', 'customer_type', 'adr',\n",
            "       'required_car_parking_spaces', 'total_of_special_requests',\n",
            "       'reservation_status', 'reservation_status_date', 'name', 'email',\n",
            "       'phone-number', 'credit_card'],\n",
            "      dtype='object')\n",
            "<class 'pandas.core.frame.DataFrame'>\n",
            "RangeIndex: 119390 entries, 0 to 119389\n",
            "Data columns (total 36 columns):\n",
            " #   Column                          Non-Null Count   Dtype  \n",
            "---  ------                          --------------   -----  \n",
            " 0   hotel                           119390 non-null  object \n",
            " 1   is_canceled                     119390 non-null  int64  \n",
            " 2   lead_time                       119390 non-null  int64  \n",
            " 3   arrival_date_year               119390 non-null  int64  \n",
            " 4   arrival_date_month              119390 non-null  object \n",
            " 5   arrival_date_week_number        119390 non-null  int64  \n",
            " 6   arrival_date_day_of_month       119390 non-null  int64  \n",
            " 7   stays_in_weekend_nights         119390 non-null  int64  \n",
            " 8   stays_in_week_nights            119390 non-null  int64  \n",
            " 9   adults                          119390 non-null  int64  \n",
            " 10  children                        119386 non-null  float64\n",
            " 11  babies                          119390 non-null  int64  \n",
            " 12  meal                            119390 non-null  object \n",
            " 13  country                         118902 non-null  object \n",
            " 14  market_segment                  119390 non-null  object \n",
            " 15  distribution_channel            119390 non-null  object \n",
            " 16  is_repeated_guest               119390 non-null  int64  \n",
            " 17  previous_cancellations          119390 non-null  int64  \n",
            " 18  previous_bookings_not_canceled  119390 non-null  int64  \n",
            " 19  reserved_room_type              119390 non-null  object \n",
            " 20  assigned_room_type              119390 non-null  object \n",
            " 21  booking_changes                 119390 non-null  int64  \n",
            " 22  deposit_type                    119390 non-null  object \n",
            " 23  agent                           103050 non-null  float64\n",
            " 24  company                         6797 non-null    float64\n",
            " 25  days_in_waiting_list            119390 non-null  int64  \n",
            " 26  customer_type                   119390 non-null  object \n",
            " 27  adr                             119390 non-null  float64\n",
            " 28  required_car_parking_spaces     119390 non-null  int64  \n",
            " 29  total_of_special_requests       119390 non-null  int64  \n",
            " 30  reservation_status              119390 non-null  object \n",
            " 31  reservation_status_date         119390 non-null  object \n",
            " 32  name                            119390 non-null  object \n",
            " 33  email                           119390 non-null  object \n",
            " 34  phone-number                    119390 non-null  object \n",
            " 35  credit_card                     119390 non-null  object \n",
            "dtypes: float64(4), int64(16), object(16)\n",
            "memory usage: 32.8+ MB\n",
            "None\n"
          ]
        }
      ]
    },
    {
      "cell_type": "code",
      "source": [
        "categorical_columns = [\n",
        "    'hotel',\n",
        "    'meal',\n",
        "    'arrival_date_month',\n",
        "    'country',\n",
        "    'market_segment',\n",
        "    'distribution_channel',\n",
        "    'reserved_room_type',\n",
        "    'assigned_room_type',\n",
        "    'deposit_type',\n",
        "    'customer_type',\n",
        "    'reservation_status'\n",
        "]"
      ],
      "metadata": {
        "id": "6qVCA2DUeE7b"
      },
      "execution_count": null,
      "outputs": []
    },
    {
      "cell_type": "code",
      "source": [
        "import random\n",
        "import numpy as np\n",
        "\n",
        "# Se calcula el obtiene el numero de filas, columnas y el porcentaje de  columnas categoricas.\n",
        "(rows, columns) = data.shape\n",
        "print(\"Filas: \", rows)\n",
        "print(\"Columnas: \", columns)\n",
        "print(\"Columnas categóricas: {:.2f}%\".format(len(categorical_columns) / columns * 100))\n",
        "\n",
        "# Se simula un 5% de datos faltantes en una columna aleatoria\n",
        "seed_value = 222\n",
        "random.seed(seed_value)\n",
        "missing_percentage = 0.05\n",
        "num_missing_values = int(len(data) * missing_percentage)\n",
        "indices_to_be_missing = random.sample(range(len(data)), num_missing_values)\n",
        "random_column_name = random.choice(data.columns)\n",
        "data.loc[indices_to_be_missing, random_column_name] = None\n",
        "\n",
        "# Se muestra el numero de filas, columnas, el porcentaje de columnas categoricas y\n",
        "# el procentaje de datos faltantes por columna.\n",
        "print(\"Porcentaje de datos faltantes:\")\n",
        "for column in data:\n",
        "  missing_percentage = (data[column].isnull().sum() / len(data)) * 100\n",
        "  if missing_percentage > 4.99:\n",
        "    print(\"\\t{}: {:.2f}%\".format(column, missing_percentage))"
      ],
      "metadata": {
        "colab": {
          "base_uri": "https://localhost:8080/"
        },
        "id": "hI-u2Glp2s4p",
        "outputId": "cf18fc0c-a0a5-403a-dd6e-3a180ea08556"
      },
      "execution_count": null,
      "outputs": [
        {
          "output_type": "stream",
          "name": "stdout",
          "text": [
            "Filas:  119390\n",
            "Columnas:  36\n",
            "Columnas categóricas: 30.56%\n",
            "Porcentaje de datos faltantes:\n",
            "\tagent: 13.69%\n",
            "\tcompany: 94.31%\n",
            "\trequired_car_parking_spaces: 5.00%\n"
          ]
        }
      ]
    }
  ]
}